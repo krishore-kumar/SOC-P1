{
 "cells": [
  {
   "cell_type": "markdown",
   "metadata": {
    "id": "1e7-YENWfruA"
   },
   "source": [
    "#Exploring Data Visualization with Matplotlib in Google Colab\n",
    "\n",
    "Welcome to this hands-on exercise on data visualization using Matplotlib in Google Colab! Matplotlib is a powerful and widely used library for creating static, animated, and interactive visualizations in Python.\n",
    "\n",
    "Upload the company_sales_data.csv given in the Github repo to your gdrive and mount your google drive for the following exercises. Read this file using Pandas or NumPy or using in-built matplotlib function."
   ]
  },
  {
   "cell_type": "code",
   "execution_count": 1,
   "metadata": {
    "id": "3mce9alwf6_s"
   },
   "outputs": [
    {
     "ename": "ModuleNotFoundError",
     "evalue": "No module named 'google'",
     "output_type": "error",
     "traceback": [
      "\u001b[1;31m---------------------------------------------------------------------------\u001b[0m",
      "\u001b[1;31mModuleNotFoundError\u001b[0m                       Traceback (most recent call last)",
      "Cell \u001b[1;32mIn[1], line 2\u001b[0m\n\u001b[0;32m      1\u001b[0m \u001b[38;5;66;03m#import required libraries and mount gdrive here\u001b[39;00m\n\u001b[1;32m----> 2\u001b[0m \u001b[38;5;28;01mfrom\u001b[39;00m \u001b[38;5;21;01mgoogle\u001b[39;00m\u001b[38;5;21;01m.\u001b[39;00m\u001b[38;5;21;01mcolab\u001b[39;00m \u001b[38;5;28;01mimport\u001b[39;00m drive\n\u001b[0;32m      3\u001b[0m drive\u001b[38;5;241m.\u001b[39mmount(\u001b[38;5;124m'\u001b[39m\u001b[38;5;124m/content/drive\u001b[39m\u001b[38;5;124m'\u001b[39m)\n",
      "\u001b[1;31mModuleNotFoundError\u001b[0m: No module named 'google'"
     ]
    }
   ],
   "source": [
    "#import required libraries and mount gdrive here\n",
    "# from google.colab import drive\n",
    "# drive.mount('/content/drive')\n",
    "\n",
    "import matplotlib.pyplot as plt\n",
    "import csv"
   ]
  },
  {
   "cell_type": "markdown",
   "metadata": {
    "id": "CnP0p2G-evKz"
   },
   "source": [
    "Exercise 1: Read Total profit of all months and show it using a line plot\n",
    "Total profit data provided for each month. Generated line plot must include the following properties: –\n",
    "\n",
    "Line Style dotted and Line-color should be red  \n",
    "Show legend at the lower right location.  \n",
    "X label name = Month Number  \n",
    "Y label name = Profit in dollar  \n",
    "Add a circle marker.  \n",
    "Line marker color as read  \n",
    "Line width should be 3  "
   ]
  },
  {
   "cell_type": "code",
   "execution_count": 2,
   "metadata": {
    "id": "fxHeVHtaejsL"
   },
   "outputs": [],
   "source": [
    "#code here\n",
    "file_path = '/content/drive/My Drive/company_sales_data.csv'\n",
    "\n",
    "months=[]\n",
    "profits=[]\n",
    "\n",
    "with open(file_path, 'r') as file:\n",
    "    reader = csv.DictReader(file)\n",
    "    for row in reader:\n",
    "        months.append(row['month_number'])\n",
    "        profits.append(row['total_profit'])\n",
    "        \n",
    "        \n",
    "plt.plot(months,profits,'ro..',linweidth=3 , label='Profit' ) \n",
    "\n",
    "plt.xlabel('Month number')\n",
    "plt.ylabel('Profile in dollar')\n",
    "\n",
    "plt.legend(loc='lower center')"
   ]
  },
  {
   "cell_type": "markdown",
   "metadata": {
    "id": "ILCkGHzce2Aj"
   },
   "source": [
    "Exercise 2: Read all product sales data and show it  using a multiline plot.\n",
    " Display the number of units sold per month for each product using multiline plots. (i.e., Separate Plotline and different color for each product )."
   ]
  },
  {
   "cell_type": "code",
   "execution_count": 3,
   "metadata": {
    "id": "uYkBIax0fPfv"
   },
   "outputs": [],
   "source": [
    "#code here\n"
   ]
  },
  {
   "cell_type": "markdown",
   "metadata": {
    "id": "ZS1DIXivfRKE"
   },
   "source": [
    "Exercise 3: Calculate total sale data for last year for each product and show it using a Pie chart  \n",
    "Note: In Pie chart display Number of units sold per year for each product in percentage.\n"
   ]
  },
  {
   "cell_type": "code",
   "execution_count": 4,
   "metadata": {
    "id": "qi30DsdOffd9"
   },
   "outputs": [],
   "source": [
    "#code here\n",
    "\n",
    "\n",
    "\n",
    "\n"
   ]
  }
 ],
 "metadata": {
  "colab": {
   "provenance": []
  },
  "kernelspec": {
   "display_name": "Python 3 (ipykernel)",
   "language": "python",
   "name": "python3"
  },
  "language_info": {
   "codemirror_mode": {
    "name": "ipython",
    "version": 3
   },
   "file_extension": ".py",
   "mimetype": "text/x-python",
   "name": "python",
   "nbconvert_exporter": "python",
   "pygments_lexer": "ipython3",
   "version": "3.11.2"
  }
 },
 "nbformat": 4,
 "nbformat_minor": 1
}
